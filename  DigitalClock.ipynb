{
 "cells": [
  {
   "cell_type": "code",
   "execution_count": null,
   "id": "7b13d428-452c-4225-93d0-737c6a8d93f5",
   "metadata": {},
   "outputs": [],
   "source": [
    "import sys\n",
    "from PyQt5.QtWidgets import QApplication, QWidget, QLabel, QVBoxLayout\n",
    "from PyQt5.QtCore import QTimer, QTime, Qt\n",
    "\n",
    "class DigitalClock(QWidget):\n",
    "    def __init__(self):\n",
    "        super().__init__()\n",
    "        self.time_label = QLabel(self)\n",
    "        self.timer = QTimer(self)\n",
    "        self.initUI()\n",
    "\n",
    "    def initUI(self):\n",
    "        self.setWindowTitle(\"Digital Clock\")\n",
    "        self.setGeometry(600, 400, 300, 100)\n",
    "        vbox = QVBoxLayout()\n",
    "        vbox.addWidget(self.time_label)\n",
    "        self.setLayout(vbox)\n",
    "\n",
    "        self.time_label.setAlignment(Qt.AlignCenter)\n",
    "        self.time_label.setStyleSheet(\"font-size: 150px; font-family: Arial; color: hsl(111, 100%, 50%);\")\n",
    "        self.setStyleSheet(\"background-color: black;\")\n",
    "        self.timer.timeout.connect(self.update_time)\n",
    "        self.timer.start(1000)\n",
    "        self.update_time()\n",
    "\n",
    "    def update_time(self):\n",
    "        current_time = QTime.currentTime().toString(\"hh:mm:ss AP\")\n",
    "        self.time_label.setText(current_time)\n",
    "\n",
    "if __name__ == \"__main__\":\n",
    "    app = QApplication(sys.argv)\n",
    "    clock = DigitalClock()\n",
    "    clock.show()\n",
    "    sys.exit(app.exec_()) \n"
   ]
  },
  {
   "cell_type": "code",
   "execution_count": null,
   "id": "e69c13eb-3e91-4236-bc1f-71f3ac2324c2",
   "metadata": {},
   "outputs": [],
   "source": []
  }
 ],
 "metadata": {
  "kernelspec": {
   "display_name": "Python 3 (ipykernel)",
   "language": "python",
   "name": "python3"
  },
  "language_info": {
   "codemirror_mode": {
    "name": "ipython",
    "version": 3
   },
   "file_extension": ".py",
   "mimetype": "text/x-python",
   "name": "python",
   "nbconvert_exporter": "python",
   "pygments_lexer": "ipython3",
   "version": "3.12.4"
  }
 },
 "nbformat": 4,
 "nbformat_minor": 5
}
